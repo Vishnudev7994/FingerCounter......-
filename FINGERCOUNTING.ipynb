{
 "cells": [
  {
   "cell_type": "code",
   "execution_count": 1,
   "id": "01d77466",
   "metadata": {},
   "outputs": [],
   "source": [
    "import mediapipe as mp"
   ]
  },
  {
   "cell_type": "code",
   "execution_count": 2,
   "id": "89acc772",
   "metadata": {},
   "outputs": [],
   "source": [
    "\n",
    "\n",
    "\n",
    "import cv2"
   ]
  },
  {
   "cell_type": "code",
   "execution_count": 3,
   "id": "3d3622c2",
   "metadata": {},
   "outputs": [],
   "source": [
    "mphand=mp.solutions.hands"
   ]
  },
  {
   "cell_type": "code",
   "execution_count": 4,
   "id": "f527b9bb",
   "metadata": {},
   "outputs": [],
   "source": [
    "mpdrawings=mp.solutions.drawing_utils"
   ]
  },
  {
   "cell_type": "code",
   "execution_count": 5,
   "id": "b8a8c79b",
   "metadata": {},
   "outputs": [],
   "source": [
    "hand=mphand.Hands(max_num_hands=1)"
   ]
  },
  {
   "cell_type": "code",
   "execution_count": 6,
   "id": "6c78c583",
   "metadata": {},
   "outputs": [],
   "source": [
    "video=cv2.VideoCapture(0)"
   ]
  },
  {
   "cell_type": "code",
   "execution_count": null,
   "id": "3540548b",
   "metadata": {},
   "outputs": [],
   "source": [
    "while True:\n",
    "    suc,image=video.read()\n",
    "    image=cv2.flip(image,1)\n",
    "    imgrgb=cv2.cvtColor(image,cv2.COLOR_BGR2RGB)\n",
    "    results=hand.process(imgrgb)\n",
    "    tipids=[4,8,12,16,20]\n",
    "    lmlist=[]\n",
    "    cv2.rectangle(image,(20,350),(90,440),(123,46,67),cv2.FILLED )\n",
    "    if results.multi_hand_landmarks:\n",
    "        for det in results.multi_hand_landmarks:\n",
    "            for id,lm in enumerate(det.landmark):\n",
    "                # print(id,lm)\n",
    "                cx=lm.x\n",
    "                cy=lm.y\n",
    "                lmlist.append([id,cx,cy])\n",
    "                # print(lmlist)\n",
    "                if len(lmlist)!=0 and len(lmlist)==21:\n",
    "                    fingerlist=[]\n",
    "\n",
    "\n",
    "                    #thumb\n",
    "                    if lmlist[20][1]>lmlist[12][1]:\n",
    "                        if lmlist[4][1]>lmlist[3][1]:\n",
    "                            fingerlist.append(0)\n",
    "                        else:\n",
    "                            fingerlist.append(1)\n",
    "                    else:\n",
    "                        if lmlist[4][1]<lmlist[3][1]:\n",
    "                            fingerlist.append(0)\n",
    "                        else:\n",
    "                            fingerlist.append(1)                \n",
    "                        \n",
    "\n",
    "                    for i in range(1,5):\n",
    "                        if lmlist[tipids[i]][2]>lmlist[tipids[i]-2][2]:\n",
    "                            fingerlist.append(0)\n",
    "                        else:\n",
    "                            fingerlist.append(1)\n",
    "                    # print(fingerlist) \n",
    "                    if fingerlist!=0:\n",
    "                        fingercount=fingerlist.count(1)\n",
    "                        # print(fingercount)\n",
    "                    cv2.putText(image,str(fingercount),(20,436),cv2.FONT_HERSHEY_COMPLEX,fontScale=3,color=(255,3,3),thickness=2)    \n",
    "\n",
    "\n",
    "            mpdrawings.draw_landmarks(image,det,mphand.HAND_CONNECTIONS,\n",
    "                                      mpdrawings.DrawingSpec(color=(400,0,0),thickness=2,circle_radius=8),\n",
    "                                      mpdrawings.DrawingSpec(color=(255,15,255),thickness=2,circle_radius=8))\n",
    "    cv2.imshow(\"HAND\",image)              \n",
    "    if cv2.waitKey(1) & 0XFF==ord('q'):\n",
    "        break"
   ]
  },
  {
   "cell_type": "code",
   "execution_count": null,
   "id": "369e3cec",
   "metadata": {},
   "outputs": [],
   "source": [
    "video.release()"
   ]
  },
  {
   "cell_type": "code",
   "execution_count": null,
   "id": "e8750538",
   "metadata": {},
   "outputs": [],
   "source": [
    "cv2.destroyAllWindows()   "
   ]
  },
  {
   "cell_type": "code",
   "execution_count": null,
   "id": "47ea03cc",
   "metadata": {},
   "outputs": [],
   "source": []
  },
  {
   "cell_type": "code",
   "execution_count": null,
   "id": "d8e4b82c",
   "metadata": {},
   "outputs": [],
   "source": []
  }
 ],
 "metadata": {
  "kernelspec": {
   "display_name": "Python 3 (ipykernel)",
   "language": "python",
   "name": "python3"
  },
  "language_info": {
   "codemirror_mode": {
    "name": "ipython",
    "version": 3
   },
   "file_extension": ".py",
   "mimetype": "text/x-python",
   "name": "python",
   "nbconvert_exporter": "python",
   "pygments_lexer": "ipython3",
   "version": "3.11.4"
  }
 },
 "nbformat": 4,
 "nbformat_minor": 5
}
